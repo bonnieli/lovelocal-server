{
 "cells": [
  {
   "cell_type": "code",
   "execution_count": null,
   "metadata": {},
   "outputs": [],
   "source": [
    "from YELP_API_KEY import YELP_API_KEY\n",
    "import csv\n",
    "import requests\n",
    "import json\n",
    "from typing import List, Dict\n",
    "from bs4 import BeautifulSoup as bs\n",
    "import re"
   ]
  },
  {
   "cell_type": "code",
   "execution_count": null,
   "metadata": {},
   "outputs": [],
   "source": [
    "def search_nested(nested_dictionary, keys: set, aliases=None, result=[]):\n",
    "    for key, value in nested_dictionary.items():\n",
    "        if key in keys and aliases is not None and key in aliases:\n",
    "            result.append({aliases[key]: value})\n",
    "        elif key in keys:\n",
    "            result.append({key: value})\n",
    "        elif type(value) is dict:\n",
    "            search_nested(value, keys, aliases, result)\n",
    "    return result"
   ]
  },
  {
   "cell_type": "code",
   "execution_count": null,
   "metadata": {},
   "outputs": [],
   "source": [
    "def get_business_info(ids: set,\n",
    "                      keys: set,\n",
    "                      api_key: str,\n",
    "                      aliases=None):\n",
    "    \"\"\"Makes a request to the Yelp business api and gets the desired params.\n",
    "    Aliases allows renaming of yelp keys.\"\"\"\n",
    "    businesses: List[Dict] = []\n",
    "    url = 'https://api.yelp.com/v3/businesses/'\n",
    "    headers = {'Authorization': f'Bearer {YELP_API_KEY}'}\n",
    "    for id_ in ids:\n",
    "        response = requests.get(f'{url}{id_}', headers=headers)\n",
    "        business = {'id': id_}\n",
    "        for key, value in response.json().items():\n",
    "            if key in keys and aliases is not None and key in aliases:\n",
    "                business[aliases[key]] = response.json()[key]\n",
    "            elif key in keys:\n",
    "                business[key] = response.json()[key]\n",
    "            elif type(value) is dict:\n",
    "                nested_keys = search_nested(value, keys, aliases)\n",
    "                for result in nested_keys:\n",
    "                    business.update(result)\n",
    "        businesses.append(business)\n",
    "    return businesses"
   ]
  },
  {
   "cell_type": "code",
   "execution_count": null,
   "metadata": {},
   "outputs": [],
   "source": [
    "def scrape_business_info(yelp_url):\n",
    "    response = requests.get(yelp_url)\n",
    "    soup = bs(response.text)\n",
    "    url = soup.find('a', href=re.compile(\"^\\/biz_redir\\?url=\"), role='link')\n",
    "    if url is not None:\n",
    "        return url.text\n",
    "    return url"
   ]
  },
  {
   "cell_type": "code",
   "execution_count": null,
   "metadata": {},
   "outputs": [],
   "source": [
    "csv_file = 'businesses_v2.csv'\n",
    "ids: set = set()\n",
    "with open(csv_file, 'r') as csv_file:\n",
    "    for row in csv.reader(csv_file):\n",
    "        ids.add(row[0])"
   ]
  },
  {
   "cell_type": "code",
   "execution_count": null,
   "metadata": {},
   "outputs": [],
   "source": [
    "keys = {\n",
    "    'name',\n",
    "    'image_url',\n",
    "    'url',\n",
    "    'phone',\n",
    "    'categories',\n",
    "    'address1',\n",
    "    'city',\n",
    "    'zip_code',\n",
    "    'country',\n",
    "    'state',\n",
    "    'latitude',\n",
    "    'longitude',\n",
    "    'photos',\n",
    "    'price',\n",
    "}\n",
    "aliases = {\n",
    "    'url': 'yelp_url',\n",
    "    'address1': 'street_address',\n",
    "    'zip_code': 'postal_code',\n",
    "    'state': 'province',\n",
    "}\n",
    "businesses = get_business_info(ids, keys, YELP_API_KEY, aliases)\n",
    "for business in businesses:\n",
    "    business['url'] = scrape_business_info(business['yelp_url'])"
   ]
  },
  {
   "cell_type": "code",
   "execution_count": null,
   "metadata": {},
   "outputs": [],
   "source": [
    "for business in businesses:\n",
    "    business['url'] = scrape_business_info(business['yelp_url'])"
   ]
  }
 ],
 "metadata": {
  "kernelspec": {
   "display_name": "Python 3",
   "language": "python",
   "name": "python3"
  },
  "language_info": {
   "codemirror_mode": {
    "name": "ipython",
    "version": 3
   },
   "file_extension": ".py",
   "mimetype": "text/x-python",
   "name": "python",
   "nbconvert_exporter": "python",
   "pygments_lexer": "ipython3",
   "version": "3.8.1"
  }
 },
 "nbformat": 4,
 "nbformat_minor": 4
}
