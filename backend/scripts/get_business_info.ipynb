{
 "cells": [
  {
   "cell_type": "code",
   "execution_count": 1,
   "metadata": {},
   "outputs": [],
   "source": [
    "from YELP_API_KEY import YELP_API_KEY\n",
    "import csv\n",
    "import requests\n",
    "import json\n",
    "from typing import List, Dict"
   ]
  },
  {
   "cell_type": "code",
   "execution_count": 2,
   "metadata": {},
   "outputs": [],
   "source": [
    "def get_business_info(ids: set,\n",
    "                      keys: set,\n",
    "                      api_key: str,\n",
    "                      aliases=None):\n",
    "    \"\"\"Makes a request to the Yelp business api and gets the desired params.\n",
    "    Keys does not check nested keys.\n",
    "    Aliases allows renaming of yelp keys.\"\"\"\n",
    "    businesses: List[Dict] = []\n",
    "    url = 'https://api.yelp.com/v3/businesses/'\n",
    "    headers = {'Authorization': f'Bearer {YELP_API_KEY}'}\n",
    "    for id_ in ids:\n",
    "        response = requests.get(url=f'{url}{id_}', headers=headers)\n",
    "        business = {'id': id_}\n",
    "        for key in keys:\n",
    "            if key in response.json() and aliases is not None and key in aliases:\n",
    "                business[aliases[key]] = response.json()[key]\n",
    "            elif key in response.json():\n",
    "                business[key] = response.json()[key]\n",
    "        businesses.append(business)\n",
    "    return businesses"
   ]
  },
  {
   "cell_type": "code",
   "execution_count": 3,
   "metadata": {},
   "outputs": [],
   "source": [
    "csv_file = 'businesses_v2.csv'\n",
    "ids: set = set()\n",
    "with open(csv_file, 'r') as csv_file:\n",
    "    for row in csv.reader(csv_file):\n",
    "        ids.add(row[0])"
   ]
  },
  {
   "cell_type": "code",
   "execution_count": 4,
   "metadata": {},
   "outputs": [],
   "source": [
    "keys = {\n",
    "    'name',\n",
    "    'image_url',\n",
    "    'url',\n",
    "    'phone',\n",
    "    'categories',\n",
    "    'location',\n",
    "    'coordinates',\n",
    "    'photos',\n",
    "    'price',\n",
    "}\n",
    "aliases = {\n",
    "    'url': 'yelp_url'\n",
    "}\n",
    "businesses = get_business_info(ids, keys, YELP_API_KEY, aliases)"
   ]
  },
  {
   "cell_type": "code",
   "execution_count": null,
   "metadata": {},
   "outputs": [],
   "source": []
  }
 ],
 "metadata": {
  "kernelspec": {
   "display_name": "Python 3",
   "language": "python",
   "name": "python3"
  },
  "language_info": {
   "codemirror_mode": {
    "name": "ipython",
    "version": 3
   },
   "file_extension": ".py",
   "mimetype": "text/x-python",
   "name": "python",
   "nbconvert_exporter": "python",
   "pygments_lexer": "ipython3",
   "version": "3.8.1"
  }
 },
 "nbformat": 4,
 "nbformat_minor": 4
}
